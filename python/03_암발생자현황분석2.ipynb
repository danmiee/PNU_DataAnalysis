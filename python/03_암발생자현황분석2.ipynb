{
 "cells": [
  {
   "attachments": {},
   "cell_type": "markdown",
   "metadata": {},
   "source": [
    "주피터노트북용 matplot 한글코드"
   ]
  },
  {
   "cell_type": "code",
   "execution_count": 86,
   "metadata": {},
   "outputs": [],
   "source": [
    "# 필요한 패키지와 라이브러리를 가져옴\n",
    "import matplotlib as mpl\n",
    "import matplotlib.pyplot as plt\n",
    "import matplotlib.font_manager as fm\n",
    "mpl.rc('font',family='Malgun Gothic')   # 맑은 고딕으로 그래프한글설정\n",
    "\n",
    "# 그래프에서 마이너스 폰트 깨지는 문제에 대한 대처\n",
    "mpl.rcParams['axes.unicode_minus'] = False"
   ]
  },
  {
   "attachments": {},
   "cell_type": "markdown",
   "metadata": {},
   "source": [
    "판다스 임포트"
   ]
  },
  {
   "cell_type": "code",
   "execution_count": 1,
   "metadata": {},
   "outputs": [],
   "source": [
    "import pandas as pd"
   ]
  },
  {
   "attachments": {},
   "cell_type": "markdown",
   "metadata": {},
   "source": [
    "파일 불러오기"
   ]
  },
  {
   "cell_type": "code",
   "execution_count": 62,
   "metadata": {},
   "outputs": [
    {
     "data": {
      "text/html": [
       "<div>\n",
       "<style scoped>\n",
       "    .dataframe tbody tr th:only-of-type {\n",
       "        vertical-align: middle;\n",
       "    }\n",
       "\n",
       "    .dataframe tbody tr th {\n",
       "        vertical-align: top;\n",
       "    }\n",
       "\n",
       "    .dataframe thead th {\n",
       "        text-align: right;\n",
       "    }\n",
       "</style>\n",
       "<table border=\"1\" class=\"dataframe\">\n",
       "  <thead>\n",
       "    <tr style=\"text-align: right;\">\n",
       "      <th></th>\n",
       "      <th>24개 암종별</th>\n",
       "      <th>성별</th>\n",
       "      <th>연령별</th>\n",
       "      <th>2019</th>\n",
       "      <th>2019.1</th>\n",
       "    </tr>\n",
       "  </thead>\n",
       "  <tbody>\n",
       "    <tr>\n",
       "      <th>0</th>\n",
       "      <td>24개 암종별</td>\n",
       "      <td>성별</td>\n",
       "      <td>연령별</td>\n",
       "      <td>발생자수 (명)</td>\n",
       "      <td>조발생률 (명/10만명)</td>\n",
       "    </tr>\n",
       "    <tr>\n",
       "      <th>1</th>\n",
       "      <td>모든 암(C00-C96)</td>\n",
       "      <td>계</td>\n",
       "      <td>계</td>\n",
       "      <td>254718</td>\n",
       "      <td>496.2</td>\n",
       "    </tr>\n",
       "    <tr>\n",
       "      <th>2</th>\n",
       "      <td>모든 암(C00-C96)</td>\n",
       "      <td>계</td>\n",
       "      <td>0-4세</td>\n",
       "      <td>406</td>\n",
       "      <td>21.3</td>\n",
       "    </tr>\n",
       "    <tr>\n",
       "      <th>3</th>\n",
       "      <td>모든 암(C00-C96)</td>\n",
       "      <td>계</td>\n",
       "      <td>5-9세</td>\n",
       "      <td>220</td>\n",
       "      <td>9.5</td>\n",
       "    </tr>\n",
       "    <tr>\n",
       "      <th>4</th>\n",
       "      <td>모든 암(C00-C96)</td>\n",
       "      <td>계</td>\n",
       "      <td>10-14세</td>\n",
       "      <td>300</td>\n",
       "      <td>13.0</td>\n",
       "    </tr>\n",
       "  </tbody>\n",
       "</table>\n",
       "</div>"
      ],
      "text/plain": [
       "         24개 암종별  성별     연령별      2019         2019.1\n",
       "0        24개 암종별  성별     연령별  발생자수 (명)  조발생률 (명/10만명)\n",
       "1  모든 암(C00-C96)   계       계    254718          496.2\n",
       "2  모든 암(C00-C96)   계    0-4세       406           21.3\n",
       "3  모든 암(C00-C96)   계    5-9세       220            9.5\n",
       "4  모든 암(C00-C96)   계  10-14세       300           13.0"
      ]
     },
     "execution_count": 62,
     "metadata": {},
     "output_type": "execute_result"
    }
   ],
   "source": [
    "df = pd.read_csv(\"../03/03_암발생자수.csv\", encoding='cp949')\n",
    "df.head()"
   ]
  },
  {
   "attachments": {},
   "cell_type": "markdown",
   "metadata": {},
   "source": [
    "열이름 변경"
   ]
  },
  {
   "cell_type": "code",
   "execution_count": 64,
   "metadata": {},
   "outputs": [],
   "source": [
    "df.columns = [\"암종별\", \"성별\", \"연령별\", \"발생자수\", \"조발생률\"]"
   ]
  },
  {
   "attachments": {},
   "cell_type": "markdown",
   "metadata": {},
   "source": [
    "열 데이터 타입 확인"
   ]
  },
  {
   "cell_type": "code",
   "execution_count": 4,
   "metadata": {},
   "outputs": [
    {
     "name": "stdout",
     "output_type": "stream",
     "text": [
      "<class 'pandas.core.frame.DataFrame'>\n",
      "RangeIndex: 1501 entries, 0 to 1500\n",
      "Data columns (total 5 columns):\n",
      " #   Column  Non-Null Count  Dtype \n",
      "---  ------  --------------  ----- \n",
      " 0   암종별     1501 non-null   object\n",
      " 1   성별      1501 non-null   object\n",
      " 2   연령별     1501 non-null   object\n",
      " 3   발생자수    1501 non-null   object\n",
      " 4   조발생률    1501 non-null   object\n",
      "dtypes: object(5)\n",
      "memory usage: 58.8+ KB\n"
     ]
    }
   ],
   "source": [
    "df.info()"
   ]
  },
  {
   "attachments": {},
   "cell_type": "markdown",
   "metadata": {},
   "source": [
    "1행 제거"
   ]
  },
  {
   "cell_type": "code",
   "execution_count": 7,
   "metadata": {},
   "outputs": [
    {
     "data": {
      "text/plain": [
       "RangeIndex(start=0, stop=1501, step=1)"
      ]
     },
     "execution_count": 7,
     "metadata": {},
     "output_type": "execute_result"
    }
   ],
   "source": [
    "# 행 인덱스 확인\n",
    "df.index\n",
    "# 파이썬에서 Range가 붙으면 마지막은 포함안함"
   ]
  },
  {
   "cell_type": "code",
   "execution_count": 23,
   "metadata": {},
   "outputs": [
    {
     "data": {
      "text/plain": [
       "Index(['암종별', '성별', '연령별', '발생자수', '조발생률'], dtype='object')"
      ]
     },
     "execution_count": 23,
     "metadata": {},
     "output_type": "execute_result"
    }
   ],
   "source": [
    "# 열이름 확인\n",
    "df.columns"
   ]
  },
  {
   "cell_type": "code",
   "execution_count": 9,
   "metadata": {},
   "outputs": [
    {
     "data": {
      "text/plain": [
       "'24개 암종별'"
      ]
     },
     "execution_count": 9,
     "metadata": {},
     "output_type": "execute_result"
    }
   ],
   "source": [
    "# 행, 열 조회\n",
    "df.loc[0,'암종별']"
   ]
  },
  {
   "cell_type": "code",
   "execution_count": 10,
   "metadata": {},
   "outputs": [
    {
     "data": {
      "text/plain": [
       "'24개 암종별'"
      ]
     },
     "execution_count": 10,
     "metadata": {},
     "output_type": "execute_result"
    }
   ],
   "source": [
    "# 열 인덱스 사용하여 조회\n",
    "df.iloc[0, 0]"
   ]
  },
  {
   "cell_type": "code",
   "execution_count": 65,
   "metadata": {},
   "outputs": [],
   "source": [
    "# 첫행 제외하고 모두 조회 > df로 넣어주기\n",
    "df = df.loc[1:,:]"
   ]
  },
  {
   "attachments": {},
   "cell_type": "markdown",
   "metadata": {},
   "source": [
    "특정 변수 조회"
   ]
  },
  {
   "cell_type": "code",
   "execution_count": 5,
   "metadata": {},
   "outputs": [
    {
     "data": {
      "text/plain": [
       "0                 24개 암종별\n",
       "1           모든 암(C00-C96)\n",
       "2           모든 암(C00-C96)\n",
       "3           모든 암(C00-C96)\n",
       "4           모든 암(C00-C96)\n",
       "              ...        \n",
       "1496    기타 암(Re. C00-C96)\n",
       "1497    기타 암(Re. C00-C96)\n",
       "1498    기타 암(Re. C00-C96)\n",
       "1499    기타 암(Re. C00-C96)\n",
       "1500    기타 암(Re. C00-C96)\n",
       "Name: 암종별, Length: 1501, dtype: object"
      ]
     },
     "execution_count": 5,
     "metadata": {},
     "output_type": "execute_result"
    }
   ],
   "source": [
    "df['암종별']"
   ]
  },
  {
   "attachments": {},
   "cell_type": "markdown",
   "metadata": {},
   "source": [
    "특정 행, 열 자료 추출"
   ]
  },
  {
   "cell_type": "code",
   "execution_count": 12,
   "metadata": {},
   "outputs": [
    {
     "data": {
      "text/html": [
       "<div>\n",
       "<style scoped>\n",
       "    .dataframe tbody tr th:only-of-type {\n",
       "        vertical-align: middle;\n",
       "    }\n",
       "\n",
       "    .dataframe tbody tr th {\n",
       "        vertical-align: top;\n",
       "    }\n",
       "\n",
       "    .dataframe thead th {\n",
       "        text-align: right;\n",
       "    }\n",
       "</style>\n",
       "<table border=\"1\" class=\"dataframe\">\n",
       "  <thead>\n",
       "    <tr style=\"text-align: right;\">\n",
       "      <th></th>\n",
       "      <th>암종별</th>\n",
       "      <th>발생자수</th>\n",
       "    </tr>\n",
       "  </thead>\n",
       "  <tbody>\n",
       "    <tr>\n",
       "      <th>1</th>\n",
       "      <td>모든 암(C00-C96)</td>\n",
       "      <td>254718</td>\n",
       "    </tr>\n",
       "    <tr>\n",
       "      <th>3</th>\n",
       "      <td>모든 암(C00-C96)</td>\n",
       "      <td>220</td>\n",
       "    </tr>\n",
       "  </tbody>\n",
       "</table>\n",
       "</div>"
      ],
      "text/plain": [
       "             암종별    발생자수\n",
       "1  모든 암(C00-C96)  254718\n",
       "3  모든 암(C00-C96)     220"
      ]
     },
     "execution_count": 12,
     "metadata": {},
     "output_type": "execute_result"
    }
   ],
   "source": [
    "df.loc[[1,3],['암종별','발생자수']]"
   ]
  },
  {
   "attachments": {},
   "cell_type": "markdown",
   "metadata": {},
   "source": [
    "넘파이 임포트"
   ]
  },
  {
   "cell_type": "code",
   "execution_count": 13,
   "metadata": {},
   "outputs": [],
   "source": [
    "import numpy as np"
   ]
  },
  {
   "attachments": {},
   "cell_type": "markdown",
   "metadata": {},
   "source": [
    "값 변경: - => 0"
   ]
  },
  {
   "cell_type": "code",
   "execution_count": 14,
   "metadata": {},
   "outputs": [],
   "source": [
    "df['발생자수'] = np.where(df['발생자수'] == '-', 0, df['발생자수'])\n",
    "df['조발생률'] = np.where(df['조발생률'] == '-', 0, df['조발생률'])"
   ]
  },
  {
   "cell_type": "code",
   "execution_count": 18,
   "metadata": {},
   "outputs": [
    {
     "name": "stdout",
     "output_type": "stream",
     "text": [
      "<class 'pandas.core.frame.DataFrame'>\n",
      "RangeIndex: 1501 entries, 0 to 1500\n",
      "Data columns (total 5 columns):\n",
      " #   Column  Non-Null Count  Dtype \n",
      "---  ------  --------------  ----- \n",
      " 0   암종별     1501 non-null   object\n",
      " 1   성별      1501 non-null   object\n",
      " 2   연령별     1501 non-null   object\n",
      " 3   발생자수    1501 non-null   object\n",
      " 4   조발생률    1501 non-null   object\n",
      "dtypes: object(5)\n",
      "memory usage: 58.8+ KB\n"
     ]
    }
   ],
   "source": [
    "df.info()"
   ]
  },
  {
   "cell_type": "code",
   "execution_count": 58,
   "metadata": {},
   "outputs": [
    {
     "data": {
      "text/plain": [
       "1       254718\n",
       "2          406\n",
       "3          220\n",
       "4          300\n",
       "5          583\n",
       "         ...  \n",
       "1496      1096\n",
       "1497      1357\n",
       "1498      1420\n",
       "1499      1273\n",
       "1500         -\n",
       "Name: 발생자수, Length: 1500, dtype: object"
      ]
     },
     "execution_count": 58,
     "metadata": {},
     "output_type": "execute_result"
    }
   ],
   "source": [
    "df['발생자수']"
   ]
  },
  {
   "attachments": {},
   "cell_type": "markdown",
   "metadata": {},
   "source": [
    "데이터타입 변경(형변환)"
   ]
  },
  {
   "cell_type": "code",
   "execution_count": 29,
   "metadata": {},
   "outputs": [],
   "source": [
    "df['발생자수'] = df['발생자수'].astype('int')"
   ]
  },
  {
   "cell_type": "code",
   "execution_count": 30,
   "metadata": {},
   "outputs": [
    {
     "name": "stdout",
     "output_type": "stream",
     "text": [
      "<class 'pandas.core.frame.DataFrame'>\n",
      "RangeIndex: 1500 entries, 1 to 1500\n",
      "Data columns (total 5 columns):\n",
      " #   Column  Non-Null Count  Dtype  \n",
      "---  ------  --------------  -----  \n",
      " 0   암종별     1500 non-null   object \n",
      " 1   성별      1500 non-null   object \n",
      " 2   연령별     1500 non-null   object \n",
      " 3   발생자수    1500 non-null   int32  \n",
      " 4   조발생률    1500 non-null   float64\n",
      "dtypes: float64(1), int32(1), object(3)\n",
      "memory usage: 52.9+ KB\n"
     ]
    }
   ],
   "source": [
    "df['조발생률'] = pd.to_numeric(df['조발생률'])\n",
    "df.info()"
   ]
  },
  {
   "cell_type": "code",
   "execution_count": 59,
   "metadata": {},
   "outputs": [
    {
     "name": "stdout",
     "output_type": "stream",
     "text": [
      "<class 'pandas.core.frame.DataFrame'>\n",
      "RangeIndex: 1500 entries, 1 to 1500\n",
      "Data columns (total 5 columns):\n",
      " #   Column  Non-Null Count  Dtype \n",
      "---  ------  --------------  ----- \n",
      " 0   암종별     1500 non-null   object\n",
      " 1   성별      1500 non-null   object\n",
      " 2   연령별     1500 non-null   object\n",
      " 3   발생자수    1500 non-null   int64 \n",
      " 4   조발생률    1500 non-null   object\n",
      "dtypes: int64(1), object(4)\n",
      "memory usage: 58.7+ KB\n"
     ]
    }
   ],
   "source": [
    "temp = list(df['발생자수'])\n",
    "temp = [int(s.replace('-','0')) for s in temp]\n",
    "df['발생자수'] = temp\n",
    "df.info()"
   ]
  },
  {
   "cell_type": "code",
   "execution_count": 61,
   "metadata": {},
   "outputs": [
    {
     "name": "stdout",
     "output_type": "stream",
     "text": [
      "<class 'pandas.core.frame.DataFrame'>\n",
      "RangeIndex: 1500 entries, 1 to 1500\n",
      "Data columns (total 5 columns):\n",
      " #   Column  Non-Null Count  Dtype  \n",
      "---  ------  --------------  -----  \n",
      " 0   암종별     1500 non-null   object \n",
      " 1   성별      1500 non-null   object \n",
      " 2   연령별     1500 non-null   object \n",
      " 3   발생자수    1500 non-null   int64  \n",
      " 4   조발생률    1500 non-null   float64\n",
      "dtypes: float64(1), int64(1), object(3)\n",
      "memory usage: 58.7+ KB\n"
     ]
    }
   ],
   "source": [
    "temp = list(df['조발생률'])\n",
    "temp = [float(s.replace('-','0')) for s in temp]\n",
    "df['조발생률'] = temp\n",
    "df.info()"
   ]
  },
  {
   "cell_type": "code",
   "execution_count": 68,
   "metadata": {},
   "outputs": [],
   "source": [
    "# 함수로 만들기\n",
    "def funCol(col, df):\n",
    "  temp = list(df[col])\n",
    "  temp = [float(s.replace('-','0')) for s in temp]\n",
    "  df[col] = temp"
   ]
  },
  {
   "cell_type": "code",
   "execution_count": null,
   "metadata": {},
   "outputs": [],
   "source": [
    "for c in ['발생자수', '조발생률']:\n",
    "  funCol(c, df)"
   ]
  },
  {
   "cell_type": "code",
   "execution_count": 71,
   "metadata": {},
   "outputs": [
    {
     "name": "stdout",
     "output_type": "stream",
     "text": [
      "<class 'pandas.core.frame.DataFrame'>\n",
      "RangeIndex: 1500 entries, 1 to 1500\n",
      "Data columns (total 5 columns):\n",
      " #   Column  Non-Null Count  Dtype  \n",
      "---  ------  --------------  -----  \n",
      " 0   암종별     1500 non-null   object \n",
      " 1   성별      1500 non-null   object \n",
      " 2   연령별     1500 non-null   object \n",
      " 3   발생자수    1500 non-null   float64\n",
      " 4   조발생률    1500 non-null   float64\n",
      "dtypes: float64(2), object(3)\n",
      "memory usage: 58.7+ KB\n"
     ]
    }
   ],
   "source": [
    "df.info()"
   ]
  },
  {
   "attachments": {},
   "cell_type": "markdown",
   "metadata": {},
   "source": [
    "데이터셋 조회"
   ]
  },
  {
   "cell_type": "code",
   "execution_count": 44,
   "metadata": {},
   "outputs": [
    {
     "name": "stdout",
     "output_type": "stream",
     "text": [
      "['모든 암(C00-C96)', '입술, 구강 및 인두(C00-C14)', '식도(C15)', '위(C16)', '대장(C18-C20)', '간(C22)', '담낭 및 기타 담도(C23-C24)', '췌장(C25)', '후두(C32)', '폐(C33-C34)', '유방(C50)', '자궁경부(C53)', '자궁체부(C54)', '난소(C56)', '전립선(C61)', '고환(C62)', '신장(C64)', '방광(C67)', '뇌 및 중추신경계(C70-C72)', '갑상선(C73)', '호지킨 림프종(C81)', '비호지킨 림프종(C82-C86,C96)', '다발성 골수종(C90)', '백혈병(C91-C95)', '기타 암(Re. C00-C96)']\n",
      "['96', '14', '15', '16', '20', '22', '24', '25', '32', '34', '50', '53', '54', '56', '61', '62', '64', '67', '72', '73', '81', '96', '90', '95', '96']\n"
     ]
    }
   ],
   "source": [
    "df['암종별'].unique()\n",
    "lt = list(df['암종별'].unique())\n",
    "print(lt)\n",
    "lt = [s[-3:-1] for s in lt]\n",
    "print(lt)"
   ]
  },
  {
   "cell_type": "code",
   "execution_count": 45,
   "metadata": {},
   "outputs": [
    {
     "name": "stdout",
     "output_type": "stream",
     "text": [
      "[96, 14, 15, 16, 20, 22, 24, 25, 32, 34, 50, 53, 54, 56, 61, 62, 64, 67, 72, 73, 81, 96, 90, 95, 96]\n"
     ]
    }
   ],
   "source": [
    "lt = [int(s) for s in lt]\n",
    "print(lt)"
   ]
  },
  {
   "attachments": {},
   "cell_type": "markdown",
   "metadata": {},
   "source": [
    "필터링\n",
    "\n",
    "- 판다스에서 조건을 쓸 때는 기호 사용"
   ]
  },
  {
   "cell_type": "code",
   "execution_count": 72,
   "metadata": {},
   "outputs": [
    {
     "data": {
      "text/html": [
       "<div>\n",
       "<style scoped>\n",
       "    .dataframe tbody tr th:only-of-type {\n",
       "        vertical-align: middle;\n",
       "    }\n",
       "\n",
       "    .dataframe tbody tr th {\n",
       "        vertical-align: top;\n",
       "    }\n",
       "\n",
       "    .dataframe thead th {\n",
       "        text-align: right;\n",
       "    }\n",
       "</style>\n",
       "<table border=\"1\" class=\"dataframe\">\n",
       "  <thead>\n",
       "    <tr style=\"text-align: right;\">\n",
       "      <th></th>\n",
       "      <th>암종별</th>\n",
       "      <th>성별</th>\n",
       "      <th>연령별</th>\n",
       "      <th>발생자수</th>\n",
       "      <th>조발생률</th>\n",
       "    </tr>\n",
       "  </thead>\n",
       "  <tbody>\n",
       "    <tr>\n",
       "      <th>1</th>\n",
       "      <td>모든 암(C00-C96)</td>\n",
       "      <td>계</td>\n",
       "      <td>계</td>\n",
       "      <td>254718.0</td>\n",
       "      <td>496.2</td>\n",
       "    </tr>\n",
       "    <tr>\n",
       "      <th>2</th>\n",
       "      <td>모든 암(C00-C96)</td>\n",
       "      <td>계</td>\n",
       "      <td>0-4세</td>\n",
       "      <td>406.0</td>\n",
       "      <td>21.3</td>\n",
       "    </tr>\n",
       "    <tr>\n",
       "      <th>3</th>\n",
       "      <td>모든 암(C00-C96)</td>\n",
       "      <td>계</td>\n",
       "      <td>5-9세</td>\n",
       "      <td>220.0</td>\n",
       "      <td>9.5</td>\n",
       "    </tr>\n",
       "    <tr>\n",
       "      <th>4</th>\n",
       "      <td>모든 암(C00-C96)</td>\n",
       "      <td>계</td>\n",
       "      <td>10-14세</td>\n",
       "      <td>300.0</td>\n",
       "      <td>13.0</td>\n",
       "    </tr>\n",
       "    <tr>\n",
       "      <th>5</th>\n",
       "      <td>모든 암(C00-C96)</td>\n",
       "      <td>계</td>\n",
       "      <td>15-19세</td>\n",
       "      <td>583.0</td>\n",
       "      <td>21.4</td>\n",
       "    </tr>\n",
       "  </tbody>\n",
       "</table>\n",
       "</div>"
      ],
      "text/plain": [
       "             암종별 성별     연령별      발생자수   조발생률\n",
       "1  모든 암(C00-C96)  계       계  254718.0  496.2\n",
       "2  모든 암(C00-C96)  계    0-4세     406.0   21.3\n",
       "3  모든 암(C00-C96)  계    5-9세     220.0    9.5\n",
       "4  모든 암(C00-C96)  계  10-14세     300.0   13.0\n",
       "5  모든 암(C00-C96)  계  15-19세     583.0   21.4"
      ]
     },
     "execution_count": 72,
     "metadata": {},
     "output_type": "execute_result"
    }
   ],
   "source": [
    "df.head()"
   ]
  },
  {
   "cell_type": "code",
   "execution_count": 90,
   "metadata": {},
   "outputs": [
    {
     "data": {
      "text/html": [
       "<div>\n",
       "<style scoped>\n",
       "    .dataframe tbody tr th:only-of-type {\n",
       "        vertical-align: middle;\n",
       "    }\n",
       "\n",
       "    .dataframe tbody tr th {\n",
       "        vertical-align: top;\n",
       "    }\n",
       "\n",
       "    .dataframe thead th {\n",
       "        text-align: right;\n",
       "    }\n",
       "</style>\n",
       "<table border=\"1\" class=\"dataframe\">\n",
       "  <thead>\n",
       "    <tr style=\"text-align: right;\">\n",
       "      <th></th>\n",
       "      <th>연령별</th>\n",
       "      <th>발생자수</th>\n",
       "    </tr>\n",
       "  </thead>\n",
       "  <tbody>\n",
       "    <tr>\n",
       "      <th>2</th>\n",
       "      <td>0-4세</td>\n",
       "      <td>406.0</td>\n",
       "    </tr>\n",
       "    <tr>\n",
       "      <th>3</th>\n",
       "      <td>5-9세</td>\n",
       "      <td>220.0</td>\n",
       "    </tr>\n",
       "    <tr>\n",
       "      <th>4</th>\n",
       "      <td>10-14세</td>\n",
       "      <td>300.0</td>\n",
       "    </tr>\n",
       "    <tr>\n",
       "      <th>5</th>\n",
       "      <td>15-19세</td>\n",
       "      <td>583.0</td>\n",
       "    </tr>\n",
       "    <tr>\n",
       "      <th>6</th>\n",
       "      <td>20-24세</td>\n",
       "      <td>1344.0</td>\n",
       "    </tr>\n",
       "    <tr>\n",
       "      <th>7</th>\n",
       "      <td>25-29세</td>\n",
       "      <td>2896.0</td>\n",
       "    </tr>\n",
       "    <tr>\n",
       "      <th>8</th>\n",
       "      <td>30-34세</td>\n",
       "      <td>4652.0</td>\n",
       "    </tr>\n",
       "    <tr>\n",
       "      <th>9</th>\n",
       "      <td>35-39세</td>\n",
       "      <td>8845.0</td>\n",
       "    </tr>\n",
       "    <tr>\n",
       "      <th>10</th>\n",
       "      <td>40-44세</td>\n",
       "      <td>12427.0</td>\n",
       "    </tr>\n",
       "    <tr>\n",
       "      <th>11</th>\n",
       "      <td>45-49세</td>\n",
       "      <td>17759.0</td>\n",
       "    </tr>\n",
       "    <tr>\n",
       "      <th>12</th>\n",
       "      <td>50-54세</td>\n",
       "      <td>22061.0</td>\n",
       "    </tr>\n",
       "    <tr>\n",
       "      <th>13</th>\n",
       "      <td>55-59세</td>\n",
       "      <td>28454.0</td>\n",
       "    </tr>\n",
       "    <tr>\n",
       "      <th>14</th>\n",
       "      <td>60-64세</td>\n",
       "      <td>33079.0</td>\n",
       "    </tr>\n",
       "    <tr>\n",
       "      <th>15</th>\n",
       "      <td>65-69세</td>\n",
       "      <td>29031.0</td>\n",
       "    </tr>\n",
       "    <tr>\n",
       "      <th>16</th>\n",
       "      <td>70-74세</td>\n",
       "      <td>29796.0</td>\n",
       "    </tr>\n",
       "    <tr>\n",
       "      <th>17</th>\n",
       "      <td>75-79세</td>\n",
       "      <td>29324.0</td>\n",
       "    </tr>\n",
       "    <tr>\n",
       "      <th>18</th>\n",
       "      <td>80-84세</td>\n",
       "      <td>20664.0</td>\n",
       "    </tr>\n",
       "    <tr>\n",
       "      <th>19</th>\n",
       "      <td>85세이상</td>\n",
       "      <td>12874.0</td>\n",
       "    </tr>\n",
       "    <tr>\n",
       "      <th>20</th>\n",
       "      <td>연령미상</td>\n",
       "      <td>3.0</td>\n",
       "    </tr>\n",
       "  </tbody>\n",
       "</table>\n",
       "</div>"
      ],
      "text/plain": [
       "       연령별     발생자수\n",
       "2     0-4세    406.0\n",
       "3     5-9세    220.0\n",
       "4   10-14세    300.0\n",
       "5   15-19세    583.0\n",
       "6   20-24세   1344.0\n",
       "7   25-29세   2896.0\n",
       "8   30-34세   4652.0\n",
       "9   35-39세   8845.0\n",
       "10  40-44세  12427.0\n",
       "11  45-49세  17759.0\n",
       "12  50-54세  22061.0\n",
       "13  55-59세  28454.0\n",
       "14  60-64세  33079.0\n",
       "15  65-69세  29031.0\n",
       "16  70-74세  29796.0\n",
       "17  75-79세  29324.0\n",
       "18  80-84세  20664.0\n",
       "19   85세이상  12874.0\n",
       "20    연령미상      3.0"
      ]
     },
     "execution_count": 90,
     "metadata": {},
     "output_type": "execute_result"
    }
   ],
   "source": [
    "# 암종별 : 모든 암, 연령별 : 계 x, 성별 : 계 o\n",
    "# df1 = df[(df['암종별']=='모든 암(C00-C96)') & (df['연령별']!=\"계\") & (df['성별']=='계')][['연령별','발생자수']]\n",
    "df1 = df[(df['암종별']=='모든 암(C00-C96)') & (df['연령별']!=\"계\") & (df['성별']=='계')]\n",
    "df1 = df1[['연령별','발생자수']]\n",
    "df1"
   ]
  },
  {
   "attachments": {},
   "cell_type": "markdown",
   "metadata": {},
   "source": [
    "그래프 그리기"
   ]
  },
  {
   "cell_type": "code",
   "execution_count": 91,
   "metadata": {},
   "outputs": [
    {
     "data": {
      "image/png": "[encoded data removed]",
      "text/plain": [
       "<Figure size 640x480 with 1 Axes>"
      ]
     },
     "metadata": {},
     "output_type": "display_data"
    }
   ],
   "source": [
    "df1.plot()\n",
    "plt.show()"
   ]
  },
  {
   "cell_type": "code",
   "execution_count": 92,
   "metadata": {},
   "outputs": [
    {
     "data": {
      "text/html": [
       "<div>\n",
       "<style scoped>\n",
       "    .dataframe tbody tr th:only-of-type {\n",
       "        vertical-align: middle;\n",
       "    }\n",
       "\n",
       "    .dataframe tbody tr th {\n",
       "        vertical-align: top;\n",
       "    }\n",
       "\n",
       "    .dataframe thead th {\n",
       "        text-align: right;\n",
       "    }\n",
       "</style>\n",
       "<table border=\"1\" class=\"dataframe\">\n",
       "  <thead>\n",
       "    <tr style=\"text-align: right;\">\n",
       "      <th></th>\n",
       "      <th>발생자수</th>\n",
       "    </tr>\n",
       "    <tr>\n",
       "      <th>연령별</th>\n",
       "      <th></th>\n",
       "    </tr>\n",
       "  </thead>\n",
       "  <tbody>\n",
       "    <tr>\n",
       "      <th>0-4세</th>\n",
       "      <td>406.0</td>\n",
       "    </tr>\n",
       "    <tr>\n",
       "      <th>5-9세</th>\n",
       "      <td>220.0</td>\n",
       "    </tr>\n",
       "    <tr>\n",
       "      <th>10-14세</th>\n",
       "      <td>300.0</td>\n",
       "    </tr>\n",
       "    <tr>\n",
       "      <th>15-19세</th>\n",
       "      <td>583.0</td>\n",
       "    </tr>\n",
       "    <tr>\n",
       "      <th>20-24세</th>\n",
       "      <td>1344.0</td>\n",
       "    </tr>\n",
       "    <tr>\n",
       "      <th>25-29세</th>\n",
       "      <td>2896.0</td>\n",
       "    </tr>\n",
       "    <tr>\n",
       "      <th>30-34세</th>\n",
       "      <td>4652.0</td>\n",
       "    </tr>\n",
       "    <tr>\n",
       "      <th>35-39세</th>\n",
       "      <td>8845.0</td>\n",
       "    </tr>\n",
       "    <tr>\n",
       "      <th>40-44세</th>\n",
       "      <td>12427.0</td>\n",
       "    </tr>\n",
       "    <tr>\n",
       "      <th>45-49세</th>\n",
       "      <td>17759.0</td>\n",
       "    </tr>\n",
       "    <tr>\n",
       "      <th>50-54세</th>\n",
       "      <td>22061.0</td>\n",
       "    </tr>\n",
       "    <tr>\n",
       "      <th>55-59세</th>\n",
       "      <td>28454.0</td>\n",
       "    </tr>\n",
       "    <tr>\n",
       "      <th>60-64세</th>\n",
       "      <td>33079.0</td>\n",
       "    </tr>\n",
       "    <tr>\n",
       "      <th>65-69세</th>\n",
       "      <td>29031.0</td>\n",
       "    </tr>\n",
       "    <tr>\n",
       "      <th>70-74세</th>\n",
       "      <td>29796.0</td>\n",
       "    </tr>\n",
       "    <tr>\n",
       "      <th>75-79세</th>\n",
       "      <td>29324.0</td>\n",
       "    </tr>\n",
       "    <tr>\n",
       "      <th>80-84세</th>\n",
       "      <td>20664.0</td>\n",
       "    </tr>\n",
       "    <tr>\n",
       "      <th>85세이상</th>\n",
       "      <td>12874.0</td>\n",
       "    </tr>\n",
       "    <tr>\n",
       "      <th>연령미상</th>\n",
       "      <td>3.0</td>\n",
       "    </tr>\n",
       "  </tbody>\n",
       "</table>\n",
       "</div>"
      ],
      "text/plain": [
       "           발생자수\n",
       "연령별            \n",
       "0-4세      406.0\n",
       "5-9세      220.0\n",
       "10-14세    300.0\n",
       "15-19세    583.0\n",
       "20-24세   1344.0\n",
       "25-29세   2896.0\n",
       "30-34세   4652.0\n",
       "35-39세   8845.0\n",
       "40-44세  12427.0\n",
       "45-49세  17759.0\n",
       "50-54세  22061.0\n",
       "55-59세  28454.0\n",
       "60-64세  33079.0\n",
       "65-69세  29031.0\n",
       "70-74세  29796.0\n",
       "75-79세  29324.0\n",
       "80-84세  20664.0\n",
       "85세이상   12874.0\n",
       "연령미상        3.0"
      ]
     },
     "execution_count": 92,
     "metadata": {},
     "output_type": "execute_result"
    }
   ],
   "source": [
    "df1 = df1.set_index('연령별')\n",
    "df1"
   ]
  },
  {
   "cell_type": "code",
   "execution_count": 93,
   "metadata": {},
   "outputs": [
    {
     "data": {
      "image/png": "[encoded data removed]",
      "text/plain": [
       "<Figure size 640x480 with 1 Axes>"
      ]
     },
     "metadata": {},
     "output_type": "display_data"
    }
   ],
   "source": [
    "df1.plot()\n",
    "plt.show()\n"
   ]
  },
  {
   "cell_type": "code",
   "execution_count": 94,
   "metadata": {},
   "outputs": [
    {
     "data": {
      "text/html": [
       "<div>\n",
       "<style scoped>\n",
       "    .dataframe tbody tr th:only-of-type {\n",
       "        vertical-align: middle;\n",
       "    }\n",
       "\n",
       "    .dataframe tbody tr th {\n",
       "        vertical-align: top;\n",
       "    }\n",
       "\n",
       "    .dataframe thead th {\n",
       "        text-align: right;\n",
       "    }\n",
       "</style>\n",
       "<table border=\"1\" class=\"dataframe\">\n",
       "  <thead>\n",
       "    <tr style=\"text-align: right;\">\n",
       "      <th></th>\n",
       "      <th>연령별</th>\n",
       "      <th>발생자수</th>\n",
       "      <th>조발생률</th>\n",
       "    </tr>\n",
       "  </thead>\n",
       "  <tbody>\n",
       "    <tr>\n",
       "      <th>2</th>\n",
       "      <td>0-4세</td>\n",
       "      <td>406.0</td>\n",
       "      <td>21.3</td>\n",
       "    </tr>\n",
       "    <tr>\n",
       "      <th>3</th>\n",
       "      <td>5-9세</td>\n",
       "      <td>220.0</td>\n",
       "      <td>9.5</td>\n",
       "    </tr>\n",
       "    <tr>\n",
       "      <th>4</th>\n",
       "      <td>10-14세</td>\n",
       "      <td>300.0</td>\n",
       "      <td>13.0</td>\n",
       "    </tr>\n",
       "    <tr>\n",
       "      <th>5</th>\n",
       "      <td>15-19세</td>\n",
       "      <td>583.0</td>\n",
       "      <td>21.4</td>\n",
       "    </tr>\n",
       "    <tr>\n",
       "      <th>6</th>\n",
       "      <td>20-24세</td>\n",
       "      <td>1344.0</td>\n",
       "      <td>40.1</td>\n",
       "    </tr>\n",
       "    <tr>\n",
       "      <th>7</th>\n",
       "      <td>25-29세</td>\n",
       "      <td>2896.0</td>\n",
       "      <td>84.4</td>\n",
       "    </tr>\n",
       "    <tr>\n",
       "      <th>8</th>\n",
       "      <td>30-34세</td>\n",
       "      <td>4652.0</td>\n",
       "      <td>147.6</td>\n",
       "    </tr>\n",
       "    <tr>\n",
       "      <th>9</th>\n",
       "      <td>35-39세</td>\n",
       "      <td>8845.0</td>\n",
       "      <td>223.3</td>\n",
       "    </tr>\n",
       "    <tr>\n",
       "      <th>10</th>\n",
       "      <td>40-44세</td>\n",
       "      <td>12427.0</td>\n",
       "      <td>322.2</td>\n",
       "    </tr>\n",
       "    <tr>\n",
       "      <th>11</th>\n",
       "      <td>45-49세</td>\n",
       "      <td>17759.0</td>\n",
       "      <td>396.5</td>\n",
       "    </tr>\n",
       "    <tr>\n",
       "      <th>12</th>\n",
       "      <td>50-54세</td>\n",
       "      <td>22061.0</td>\n",
       "      <td>518.0</td>\n",
       "    </tr>\n",
       "    <tr>\n",
       "      <th>13</th>\n",
       "      <td>55-59세</td>\n",
       "      <td>28454.0</td>\n",
       "      <td>668.0</td>\n",
       "    </tr>\n",
       "    <tr>\n",
       "      <th>14</th>\n",
       "      <td>60-64세</td>\n",
       "      <td>33079.0</td>\n",
       "      <td>918.5</td>\n",
       "    </tr>\n",
       "    <tr>\n",
       "      <th>15</th>\n",
       "      <td>65-69세</td>\n",
       "      <td>29031.0</td>\n",
       "      <td>1187.9</td>\n",
       "    </tr>\n",
       "    <tr>\n",
       "      <th>16</th>\n",
       "      <td>70-74세</td>\n",
       "      <td>29796.0</td>\n",
       "      <td>1566.4</td>\n",
       "    </tr>\n",
       "    <tr>\n",
       "      <th>17</th>\n",
       "      <td>75-79세</td>\n",
       "      <td>29324.0</td>\n",
       "      <td>1829.0</td>\n",
       "    </tr>\n",
       "    <tr>\n",
       "      <th>18</th>\n",
       "      <td>80-84세</td>\n",
       "      <td>20664.0</td>\n",
       "      <td>1956.5</td>\n",
       "    </tr>\n",
       "    <tr>\n",
       "      <th>19</th>\n",
       "      <td>85세이상</td>\n",
       "      <td>12874.0</td>\n",
       "      <td>1805.3</td>\n",
       "    </tr>\n",
       "    <tr>\n",
       "      <th>20</th>\n",
       "      <td>연령미상</td>\n",
       "      <td>3.0</td>\n",
       "      <td>0.0</td>\n",
       "    </tr>\n",
       "  </tbody>\n",
       "</table>\n",
       "</div>"
      ],
      "text/plain": [
       "       연령별     발생자수    조발생률\n",
       "2     0-4세    406.0    21.3\n",
       "3     5-9세    220.0     9.5\n",
       "4   10-14세    300.0    13.0\n",
       "5   15-19세    583.0    21.4\n",
       "6   20-24세   1344.0    40.1\n",
       "7   25-29세   2896.0    84.4\n",
       "8   30-34세   4652.0   147.6\n",
       "9   35-39세   8845.0   223.3\n",
       "10  40-44세  12427.0   322.2\n",
       "11  45-49세  17759.0   396.5\n",
       "12  50-54세  22061.0   518.0\n",
       "13  55-59세  28454.0   668.0\n",
       "14  60-64세  33079.0   918.5\n",
       "15  65-69세  29031.0  1187.9\n",
       "16  70-74세  29796.0  1566.4\n",
       "17  75-79세  29324.0  1829.0\n",
       "18  80-84세  20664.0  1956.5\n",
       "19   85세이상  12874.0  1805.3\n",
       "20    연령미상      3.0     0.0"
      ]
     },
     "execution_count": 94,
     "metadata": {},
     "output_type": "execute_result"
    }
   ],
   "source": [
    "df1 = df[(df['암종별']=='모든 암(C00-C96)') & (df['연령별']!=\"계\") & (df['성별']=='계')]\n",
    "df1 = df1[['연령별','발생자수','조발생률']]\n",
    "df1"
   ]
  },
  {
   "cell_type": "code",
   "execution_count": 95,
   "metadata": {},
   "outputs": [
    {
     "data": {
      "image/png": "[encoded data removed]",
      "text/plain": [
       "<Figure size 640x480 with 1 Axes>"
      ]
     },
     "metadata": {},
     "output_type": "display_data"
    }
   ],
   "source": [
    "df1.plot()\n",
    "plt.show()"
   ]
  },
  {
   "attachments": {},
   "cell_type": "markdown",
   "metadata": {},
   "source": [
    "df2 생성"
   ]
  },
  {
   "cell_type": "code",
   "execution_count": 116,
   "metadata": {},
   "outputs": [
    {
     "data": {
      "text/html": [
       "<div>\n",
       "<style scoped>\n",
       "    .dataframe tbody tr th:only-of-type {\n",
       "        vertical-align: middle;\n",
       "    }\n",
       "\n",
       "    .dataframe tbody tr th {\n",
       "        vertical-align: top;\n",
       "    }\n",
       "\n",
       "    .dataframe thead th {\n",
       "        text-align: right;\n",
       "    }\n",
       "</style>\n",
       "<table border=\"1\" class=\"dataframe\">\n",
       "  <thead>\n",
       "    <tr style=\"text-align: right;\">\n",
       "      <th></th>\n",
       "      <th>암종별</th>\n",
       "      <th>성별</th>\n",
       "      <th>연령별</th>\n",
       "      <th>발생자수</th>\n",
       "      <th>조발생률</th>\n",
       "    </tr>\n",
       "  </thead>\n",
       "  <tbody>\n",
       "    <tr>\n",
       "      <th>2</th>\n",
       "      <td>모든 암(C00-C96)</td>\n",
       "      <td>계</td>\n",
       "      <td>0-4세</td>\n",
       "      <td>406.0</td>\n",
       "      <td>21.3</td>\n",
       "    </tr>\n",
       "    <tr>\n",
       "      <th>3</th>\n",
       "      <td>모든 암(C00-C96)</td>\n",
       "      <td>계</td>\n",
       "      <td>5-9세</td>\n",
       "      <td>220.0</td>\n",
       "      <td>9.5</td>\n",
       "    </tr>\n",
       "    <tr>\n",
       "      <th>4</th>\n",
       "      <td>모든 암(C00-C96)</td>\n",
       "      <td>계</td>\n",
       "      <td>10-14세</td>\n",
       "      <td>300.0</td>\n",
       "      <td>13.0</td>\n",
       "    </tr>\n",
       "    <tr>\n",
       "      <th>5</th>\n",
       "      <td>모든 암(C00-C96)</td>\n",
       "      <td>계</td>\n",
       "      <td>15-19세</td>\n",
       "      <td>583.0</td>\n",
       "      <td>21.4</td>\n",
       "    </tr>\n",
       "    <tr>\n",
       "      <th>6</th>\n",
       "      <td>모든 암(C00-C96)</td>\n",
       "      <td>계</td>\n",
       "      <td>20-24세</td>\n",
       "      <td>1344.0</td>\n",
       "      <td>40.1</td>\n",
       "    </tr>\n",
       "    <tr>\n",
       "      <th>...</th>\n",
       "      <td>...</td>\n",
       "      <td>...</td>\n",
       "      <td>...</td>\n",
       "      <td>...</td>\n",
       "      <td>...</td>\n",
       "    </tr>\n",
       "    <tr>\n",
       "      <th>1496</th>\n",
       "      <td>기타 암(Re. C00-C96)</td>\n",
       "      <td>여자</td>\n",
       "      <td>70-74세</td>\n",
       "      <td>1096.0</td>\n",
       "      <td>107.6</td>\n",
       "    </tr>\n",
       "    <tr>\n",
       "      <th>1497</th>\n",
       "      <td>기타 암(Re. C00-C96)</td>\n",
       "      <td>여자</td>\n",
       "      <td>75-79세</td>\n",
       "      <td>1357.0</td>\n",
       "      <td>146.3</td>\n",
       "    </tr>\n",
       "    <tr>\n",
       "      <th>1498</th>\n",
       "      <td>기타 암(Re. C00-C96)</td>\n",
       "      <td>여자</td>\n",
       "      <td>80-84세</td>\n",
       "      <td>1420.0</td>\n",
       "      <td>212.1</td>\n",
       "    </tr>\n",
       "    <tr>\n",
       "      <th>1499</th>\n",
       "      <td>기타 암(Re. C00-C96)</td>\n",
       "      <td>여자</td>\n",
       "      <td>85세이상</td>\n",
       "      <td>1273.0</td>\n",
       "      <td>243.6</td>\n",
       "    </tr>\n",
       "    <tr>\n",
       "      <th>1500</th>\n",
       "      <td>기타 암(Re. C00-C96)</td>\n",
       "      <td>여자</td>\n",
       "      <td>연령미상</td>\n",
       "      <td>0.0</td>\n",
       "      <td>0.0</td>\n",
       "    </tr>\n",
       "  </tbody>\n",
       "</table>\n",
       "<p>1425 rows × 5 columns</p>\n",
       "</div>"
      ],
      "text/plain": [
       "                    암종별  성별     연령별    발생자수   조발생률\n",
       "2         모든 암(C00-C96)   계    0-4세   406.0   21.3\n",
       "3         모든 암(C00-C96)   계    5-9세   220.0    9.5\n",
       "4         모든 암(C00-C96)   계  10-14세   300.0   13.0\n",
       "5         모든 암(C00-C96)   계  15-19세   583.0   21.4\n",
       "6         모든 암(C00-C96)   계  20-24세  1344.0   40.1\n",
       "...                 ...  ..     ...     ...    ...\n",
       "1496  기타 암(Re. C00-C96)  여자  70-74세  1096.0  107.6\n",
       "1497  기타 암(Re. C00-C96)  여자  75-79세  1357.0  146.3\n",
       "1498  기타 암(Re. C00-C96)  여자  80-84세  1420.0  212.1\n",
       "1499  기타 암(Re. C00-C96)  여자   85세이상  1273.0  243.6\n",
       "1500  기타 암(Re. C00-C96)  여자    연령미상     0.0    0.0\n",
       "\n",
       "[1425 rows x 5 columns]"
      ]
     },
     "execution_count": 116,
     "metadata": {},
     "output_type": "execute_result"
    }
   ],
   "source": [
    "df2 = df[df['연령별']!='계']\n",
    "df2"
   ]
  },
  {
   "attachments": {},
   "cell_type": "markdown",
   "metadata": {},
   "source": [
    "그룹별 평균값"
   ]
  },
  {
   "cell_type": "code",
   "execution_count": 117,
   "metadata": {},
   "outputs": [
    {
     "data": {
      "text/html": [
       "<div>\n",
       "<style scoped>\n",
       "    .dataframe tbody tr th:only-of-type {\n",
       "        vertical-align: middle;\n",
       "    }\n",
       "\n",
       "    .dataframe tbody tr th {\n",
       "        vertical-align: top;\n",
       "    }\n",
       "\n",
       "    .dataframe thead th {\n",
       "        text-align: right;\n",
       "    }\n",
       "</style>\n",
       "<table border=\"1\" class=\"dataframe\">\n",
       "  <thead>\n",
       "    <tr style=\"text-align: right;\">\n",
       "      <th></th>\n",
       "      <th></th>\n",
       "      <th>발생자수</th>\n",
       "      <th>조발생률</th>\n",
       "    </tr>\n",
       "    <tr>\n",
       "      <th>암종별</th>\n",
       "      <th>성별</th>\n",
       "      <th></th>\n",
       "      <th></th>\n",
       "    </tr>\n",
       "  </thead>\n",
       "  <tbody>\n",
       "    <tr>\n",
       "      <th rowspan=\"3\" valign=\"top\">간(C22)</th>\n",
       "      <th>계</th>\n",
       "      <td>821.315789</td>\n",
       "      <td>38.810526</td>\n",
       "    </tr>\n",
       "    <tr>\n",
       "      <th>남자</th>\n",
       "      <td>607.421053</td>\n",
       "      <td>63.189474</td>\n",
       "    </tr>\n",
       "    <tr>\n",
       "      <th>여자</th>\n",
       "      <td>213.894737</td>\n",
       "      <td>20.931579</td>\n",
       "    </tr>\n",
       "    <tr>\n",
       "      <th rowspan=\"2\" valign=\"top\">갑상선(C73)</th>\n",
       "      <th>계</th>\n",
       "      <td>1614.526316</td>\n",
       "      <td>46.357895</td>\n",
       "    </tr>\n",
       "    <tr>\n",
       "      <th>남자</th>\n",
       "      <td>395.578947</td>\n",
       "      <td>23.210526</td>\n",
       "    </tr>\n",
       "    <tr>\n",
       "      <th>...</th>\n",
       "      <th>...</th>\n",
       "      <td>...</td>\n",
       "      <td>...</td>\n",
       "    </tr>\n",
       "    <tr>\n",
       "      <th rowspan=\"2\" valign=\"top\">호지킨 림프종(C81)</th>\n",
       "      <th>남자</th>\n",
       "      <td>9.526316</td>\n",
       "      <td>0.678947</td>\n",
       "    </tr>\n",
       "    <tr>\n",
       "      <th>여자</th>\n",
       "      <td>6.684211</td>\n",
       "      <td>0.515789</td>\n",
       "    </tr>\n",
       "    <tr>\n",
       "      <th rowspan=\"3\" valign=\"top\">후두(C32)</th>\n",
       "      <th>계</th>\n",
       "      <td>64.315789</td>\n",
       "      <td>3.115789</td>\n",
       "    </tr>\n",
       "    <tr>\n",
       "      <th>남자</th>\n",
       "      <td>60.736842</td>\n",
       "      <td>7.105263</td>\n",
       "    </tr>\n",
       "    <tr>\n",
       "      <th>여자</th>\n",
       "      <td>3.578947</td>\n",
       "      <td>0.347368</td>\n",
       "    </tr>\n",
       "  </tbody>\n",
       "</table>\n",
       "<p>75 rows × 2 columns</p>\n",
       "</div>"
      ],
      "text/plain": [
       "                        발생자수       조발생률\n",
       "암종별          성별                        \n",
       "간(C22)       계    821.315789  38.810526\n",
       "             남자   607.421053  63.189474\n",
       "             여자   213.894737  20.931579\n",
       "갑상선(C73)     계   1614.526316  46.357895\n",
       "             남자   395.578947  23.210526\n",
       "...                      ...        ...\n",
       "호지킨 림프종(C81) 남자     9.526316   0.678947\n",
       "             여자     6.684211   0.515789\n",
       "후두(C32)      계     64.315789   3.115789\n",
       "             남자    60.736842   7.105263\n",
       "             여자     3.578947   0.347368\n",
       "\n",
       "[75 rows x 2 columns]"
      ]
     },
     "execution_count": 117,
     "metadata": {},
     "output_type": "execute_result"
    }
   ],
   "source": [
    "df2.groupby(['암종별','성별']).mean()[['발생자수','조발생률']]"
   ]
  },
  {
   "cell_type": "code",
   "execution_count": 101,
   "metadata": {},
   "outputs": [],
   "source": [
    "import seaborn as sns"
   ]
  },
  {
   "cell_type": "code",
   "execution_count": 121,
   "metadata": {},
   "outputs": [
    {
     "data": {
      "text/html": [
       "<div>\n",
       "<style scoped>\n",
       "    .dataframe tbody tr th:only-of-type {\n",
       "        vertical-align: middle;\n",
       "    }\n",
       "\n",
       "    .dataframe tbody tr th {\n",
       "        vertical-align: top;\n",
       "    }\n",
       "\n",
       "    .dataframe thead th {\n",
       "        text-align: right;\n",
       "    }\n",
       "</style>\n",
       "<table border=\"1\" class=\"dataframe\">\n",
       "  <thead>\n",
       "    <tr style=\"text-align: right;\">\n",
       "      <th></th>\n",
       "      <th>암종별</th>\n",
       "      <th>성별</th>\n",
       "      <th>발생자수</th>\n",
       "    </tr>\n",
       "  </thead>\n",
       "  <tbody>\n",
       "    <tr>\n",
       "      <th>82</th>\n",
       "      <td>입술, 구강 및 인두(C00-C14)</td>\n",
       "      <td>남자</td>\n",
       "      <td>0.0</td>\n",
       "    </tr>\n",
       "    <tr>\n",
       "      <th>83</th>\n",
       "      <td>입술, 구강 및 인두(C00-C14)</td>\n",
       "      <td>남자</td>\n",
       "      <td>1.0</td>\n",
       "    </tr>\n",
       "    <tr>\n",
       "      <th>84</th>\n",
       "      <td>입술, 구강 및 인두(C00-C14)</td>\n",
       "      <td>남자</td>\n",
       "      <td>3.0</td>\n",
       "    </tr>\n",
       "    <tr>\n",
       "      <th>85</th>\n",
       "      <td>입술, 구강 및 인두(C00-C14)</td>\n",
       "      <td>남자</td>\n",
       "      <td>7.0</td>\n",
       "    </tr>\n",
       "    <tr>\n",
       "      <th>86</th>\n",
       "      <td>입술, 구강 및 인두(C00-C14)</td>\n",
       "      <td>남자</td>\n",
       "      <td>18.0</td>\n",
       "    </tr>\n",
       "    <tr>\n",
       "      <th>...</th>\n",
       "      <td>...</td>\n",
       "      <td>...</td>\n",
       "      <td>...</td>\n",
       "    </tr>\n",
       "    <tr>\n",
       "      <th>1496</th>\n",
       "      <td>기타 암(Re. C00-C96)</td>\n",
       "      <td>여자</td>\n",
       "      <td>1096.0</td>\n",
       "    </tr>\n",
       "    <tr>\n",
       "      <th>1497</th>\n",
       "      <td>기타 암(Re. C00-C96)</td>\n",
       "      <td>여자</td>\n",
       "      <td>1357.0</td>\n",
       "    </tr>\n",
       "    <tr>\n",
       "      <th>1498</th>\n",
       "      <td>기타 암(Re. C00-C96)</td>\n",
       "      <td>여자</td>\n",
       "      <td>1420.0</td>\n",
       "    </tr>\n",
       "    <tr>\n",
       "      <th>1499</th>\n",
       "      <td>기타 암(Re. C00-C96)</td>\n",
       "      <td>여자</td>\n",
       "      <td>1273.0</td>\n",
       "    </tr>\n",
       "    <tr>\n",
       "      <th>1500</th>\n",
       "      <td>기타 암(Re. C00-C96)</td>\n",
       "      <td>여자</td>\n",
       "      <td>0.0</td>\n",
       "    </tr>\n",
       "  </tbody>\n",
       "</table>\n",
       "<p>912 rows × 3 columns</p>\n",
       "</div>"
      ],
      "text/plain": [
       "                       암종별  성별    발생자수\n",
       "82    입술, 구강 및 인두(C00-C14)  남자     0.0\n",
       "83    입술, 구강 및 인두(C00-C14)  남자     1.0\n",
       "84    입술, 구강 및 인두(C00-C14)  남자     3.0\n",
       "85    입술, 구강 및 인두(C00-C14)  남자     7.0\n",
       "86    입술, 구강 및 인두(C00-C14)  남자    18.0\n",
       "...                    ...  ..     ...\n",
       "1496     기타 암(Re. C00-C96)  여자  1096.0\n",
       "1497     기타 암(Re. C00-C96)  여자  1357.0\n",
       "1498     기타 암(Re. C00-C96)  여자  1420.0\n",
       "1499     기타 암(Re. C00-C96)  여자  1273.0\n",
       "1500     기타 암(Re. C00-C96)  여자     0.0\n",
       "\n",
       "[912 rows x 3 columns]"
      ]
     },
     "execution_count": 121,
     "metadata": {},
     "output_type": "execute_result"
    }
   ],
   "source": [
    "df2 = df[(df['암종별'] != '모든 암(C00-C96)') & (df['연령별'] != \"계\")\n",
    "         & (df['성별'] != '계')][['암종별', '성별', '발생자수']]\n",
    "df2\n"
   ]
  },
  {
   "cell_type": "code",
   "execution_count": 122,
   "metadata": {},
   "outputs": [
    {
     "data": {
      "image/png": "[encoded data removed]",
      "text/plain": [
       "<Figure size 2000x1000 with 1 Axes>"
      ]
     },
     "metadata": {},
     "output_type": "display_data"
    }
   ],
   "source": [
    "plt.figure(figsize=(20,10))\n",
    "sns.barplot(x='암종별', y='발생자수', hue='성별', data=df2)\n",
    "plt.title('암종별 남여 발생자수 현황')\n",
    "plt.xticks(rotation=90)\n",
    "plt.show()"
   ]
  },
  {
   "cell_type": "code",
   "execution_count": 108,
   "metadata": {},
   "outputs": [
    {
     "data": {
      "text/html": [
       "<div>\n",
       "<style scoped>\n",
       "    .dataframe tbody tr th:only-of-type {\n",
       "        vertical-align: middle;\n",
       "    }\n",
       "\n",
       "    .dataframe tbody tr th {\n",
       "        vertical-align: top;\n",
       "    }\n",
       "\n",
       "    .dataframe thead th {\n",
       "        text-align: right;\n",
       "    }\n",
       "</style>\n",
       "<table border=\"1\" class=\"dataframe\">\n",
       "  <thead>\n",
       "    <tr style=\"text-align: right;\">\n",
       "      <th></th>\n",
       "      <th>연령별</th>\n",
       "      <th>발생자수</th>\n",
       "      <th>조발생률</th>\n",
       "    </tr>\n",
       "  </thead>\n",
       "  <tbody>\n",
       "    <tr>\n",
       "      <th>22</th>\n",
       "      <td>0-4세</td>\n",
       "      <td>233.0</td>\n",
       "      <td>23.8</td>\n",
       "    </tr>\n",
       "    <tr>\n",
       "      <th>23</th>\n",
       "      <td>5-9세</td>\n",
       "      <td>127.0</td>\n",
       "      <td>10.6</td>\n",
       "    </tr>\n",
       "    <tr>\n",
       "      <th>24</th>\n",
       "      <td>10-14세</td>\n",
       "      <td>157.0</td>\n",
       "      <td>13.2</td>\n",
       "    </tr>\n",
       "    <tr>\n",
       "      <th>25</th>\n",
       "      <td>15-19세</td>\n",
       "      <td>273.0</td>\n",
       "      <td>19.2</td>\n",
       "    </tr>\n",
       "    <tr>\n",
       "      <th>26</th>\n",
       "      <td>20-24세</td>\n",
       "      <td>463.0</td>\n",
       "      <td>26.3</td>\n",
       "    </tr>\n",
       "    <tr>\n",
       "      <th>27</th>\n",
       "      <td>25-29세</td>\n",
       "      <td>895.0</td>\n",
       "      <td>49.4</td>\n",
       "    </tr>\n",
       "    <tr>\n",
       "      <th>28</th>\n",
       "      <td>30-34세</td>\n",
       "      <td>1415.0</td>\n",
       "      <td>86.9</td>\n",
       "    </tr>\n",
       "    <tr>\n",
       "      <th>29</th>\n",
       "      <td>35-39세</td>\n",
       "      <td>2673.0</td>\n",
       "      <td>132.4</td>\n",
       "    </tr>\n",
       "    <tr>\n",
       "      <th>30</th>\n",
       "      <td>40-44세</td>\n",
       "      <td>3745.0</td>\n",
       "      <td>191.1</td>\n",
       "    </tr>\n",
       "    <tr>\n",
       "      <th>31</th>\n",
       "      <td>45-49세</td>\n",
       "      <td>5728.0</td>\n",
       "      <td>251.9</td>\n",
       "    </tr>\n",
       "    <tr>\n",
       "      <th>32</th>\n",
       "      <td>50-54세</td>\n",
       "      <td>9182.0</td>\n",
       "      <td>427.7</td>\n",
       "    </tr>\n",
       "    <tr>\n",
       "      <th>33</th>\n",
       "      <td>55-59세</td>\n",
       "      <td>14697.0</td>\n",
       "      <td>687.8</td>\n",
       "    </tr>\n",
       "    <tr>\n",
       "      <th>34</th>\n",
       "      <td>60-64세</td>\n",
       "      <td>19504.0</td>\n",
       "      <td>1096.9</td>\n",
       "    </tr>\n",
       "    <tr>\n",
       "      <th>35</th>\n",
       "      <td>65-69세</td>\n",
       "      <td>18896.0</td>\n",
       "      <td>1604.2</td>\n",
       "    </tr>\n",
       "    <tr>\n",
       "      <th>36</th>\n",
       "      <td>70-74세</td>\n",
       "      <td>19721.0</td>\n",
       "      <td>2231.5</td>\n",
       "    </tr>\n",
       "    <tr>\n",
       "      <th>37</th>\n",
       "      <td>75-79세</td>\n",
       "      <td>18651.0</td>\n",
       "      <td>2759.7</td>\n",
       "    </tr>\n",
       "    <tr>\n",
       "      <th>38</th>\n",
       "      <td>80-84세</td>\n",
       "      <td>11967.0</td>\n",
       "      <td>3094.1</td>\n",
       "    </tr>\n",
       "    <tr>\n",
       "      <th>39</th>\n",
       "      <td>85세이상</td>\n",
       "      <td>5851.0</td>\n",
       "      <td>3072.2</td>\n",
       "    </tr>\n",
       "    <tr>\n",
       "      <th>40</th>\n",
       "      <td>연령미상</td>\n",
       "      <td>2.0</td>\n",
       "      <td>0.0</td>\n",
       "    </tr>\n",
       "    <tr>\n",
       "      <th>42</th>\n",
       "      <td>0-4세</td>\n",
       "      <td>173.0</td>\n",
       "      <td>18.6</td>\n",
       "    </tr>\n",
       "    <tr>\n",
       "      <th>43</th>\n",
       "      <td>5-9세</td>\n",
       "      <td>93.0</td>\n",
       "      <td>8.2</td>\n",
       "    </tr>\n",
       "    <tr>\n",
       "      <th>44</th>\n",
       "      <td>10-14세</td>\n",
       "      <td>143.0</td>\n",
       "      <td>12.8</td>\n",
       "    </tr>\n",
       "    <tr>\n",
       "      <th>45</th>\n",
       "      <td>15-19세</td>\n",
       "      <td>310.0</td>\n",
       "      <td>23.7</td>\n",
       "    </tr>\n",
       "    <tr>\n",
       "      <th>46</th>\n",
       "      <td>20-24세</td>\n",
       "      <td>881.0</td>\n",
       "      <td>55.2</td>\n",
       "    </tr>\n",
       "    <tr>\n",
       "      <th>47</th>\n",
       "      <td>25-29세</td>\n",
       "      <td>2001.0</td>\n",
       "      <td>123.6</td>\n",
       "    </tr>\n",
       "    <tr>\n",
       "      <th>48</th>\n",
       "      <td>30-34세</td>\n",
       "      <td>3237.0</td>\n",
       "      <td>212.5</td>\n",
       "    </tr>\n",
       "    <tr>\n",
       "      <th>49</th>\n",
       "      <td>35-39세</td>\n",
       "      <td>6172.0</td>\n",
       "      <td>317.8</td>\n",
       "    </tr>\n",
       "    <tr>\n",
       "      <th>50</th>\n",
       "      <td>40-44세</td>\n",
       "      <td>8682.0</td>\n",
       "      <td>457.6</td>\n",
       "    </tr>\n",
       "    <tr>\n",
       "      <th>51</th>\n",
       "      <td>45-49세</td>\n",
       "      <td>12031.0</td>\n",
       "      <td>545.7</td>\n",
       "    </tr>\n",
       "    <tr>\n",
       "      <th>52</th>\n",
       "      <td>50-54세</td>\n",
       "      <td>12879.0</td>\n",
       "      <td>609.8</td>\n",
       "    </tr>\n",
       "    <tr>\n",
       "      <th>53</th>\n",
       "      <td>55-59세</td>\n",
       "      <td>13757.0</td>\n",
       "      <td>648.0</td>\n",
       "    </tr>\n",
       "    <tr>\n",
       "      <th>54</th>\n",
       "      <td>60-64세</td>\n",
       "      <td>13575.0</td>\n",
       "      <td>744.5</td>\n",
       "    </tr>\n",
       "    <tr>\n",
       "      <th>55</th>\n",
       "      <td>65-69세</td>\n",
       "      <td>10135.0</td>\n",
       "      <td>800.6</td>\n",
       "    </tr>\n",
       "    <tr>\n",
       "      <th>56</th>\n",
       "      <td>70-74세</td>\n",
       "      <td>10075.0</td>\n",
       "      <td>989.2</td>\n",
       "    </tr>\n",
       "    <tr>\n",
       "      <th>57</th>\n",
       "      <td>75-79세</td>\n",
       "      <td>10673.0</td>\n",
       "      <td>1150.9</td>\n",
       "    </tr>\n",
       "    <tr>\n",
       "      <th>58</th>\n",
       "      <td>80-84세</td>\n",
       "      <td>8697.0</td>\n",
       "      <td>1299.2</td>\n",
       "    </tr>\n",
       "    <tr>\n",
       "      <th>59</th>\n",
       "      <td>85세이상</td>\n",
       "      <td>7023.0</td>\n",
       "      <td>1343.6</td>\n",
       "    </tr>\n",
       "    <tr>\n",
       "      <th>60</th>\n",
       "      <td>연령미상</td>\n",
       "      <td>1.0</td>\n",
       "      <td>0.0</td>\n",
       "    </tr>\n",
       "  </tbody>\n",
       "</table>\n",
       "</div>"
      ],
      "text/plain": [
       "       연령별     발생자수    조발생률\n",
       "22    0-4세    233.0    23.8\n",
       "23    5-9세    127.0    10.6\n",
       "24  10-14세    157.0    13.2\n",
       "25  15-19세    273.0    19.2\n",
       "26  20-24세    463.0    26.3\n",
       "27  25-29세    895.0    49.4\n",
       "28  30-34세   1415.0    86.9\n",
       "29  35-39세   2673.0   132.4\n",
       "30  40-44세   3745.0   191.1\n",
       "31  45-49세   5728.0   251.9\n",
       "32  50-54세   9182.0   427.7\n",
       "33  55-59세  14697.0   687.8\n",
       "34  60-64세  19504.0  1096.9\n",
       "35  65-69세  18896.0  1604.2\n",
       "36  70-74세  19721.0  2231.5\n",
       "37  75-79세  18651.0  2759.7\n",
       "38  80-84세  11967.0  3094.1\n",
       "39   85세이상   5851.0  3072.2\n",
       "40    연령미상      2.0     0.0\n",
       "42    0-4세    173.0    18.6\n",
       "43    5-9세     93.0     8.2\n",
       "44  10-14세    143.0    12.8\n",
       "45  15-19세    310.0    23.7\n",
       "46  20-24세    881.0    55.2\n",
       "47  25-29세   2001.0   123.6\n",
       "48  30-34세   3237.0   212.5\n",
       "49  35-39세   6172.0   317.8\n",
       "50  40-44세   8682.0   457.6\n",
       "51  45-49세  12031.0   545.7\n",
       "52  50-54세  12879.0   609.8\n",
       "53  55-59세  13757.0   648.0\n",
       "54  60-64세  13575.0   744.5\n",
       "55  65-69세  10135.0   800.6\n",
       "56  70-74세  10075.0   989.2\n",
       "57  75-79세  10673.0  1150.9\n",
       "58  80-84세   8697.0  1299.2\n",
       "59   85세이상   7023.0  1343.6\n",
       "60    연령미상      1.0     0.0"
      ]
     },
     "execution_count": 108,
     "metadata": {},
     "output_type": "execute_result"
    }
   ],
   "source": [
    "df2 = df[(df['암종별']=='모든 암(C00-C96)') & (df['연령별']!=\"계\") & (df['성별']!='계')][['연령별','발생자수','조발생률']]\n",
    "df2"
   ]
  },
  {
   "cell_type": "code",
   "execution_count": 114,
   "metadata": {},
   "outputs": [
    {
     "data": {
      "image/png": "[encoded data removed]",
      "text/plain": [
       "<Figure size 2000x1000 with 1 Axes>"
      ]
     },
     "metadata": {},
     "output_type": "display_data"
    }
   ],
   "source": [
    "plt.figure(figsize=(20,10))\n",
    "sns.barplot(x='연령별', y='발생자수', data=df2)\n",
    "plt.show()"
   ]
  }
 ],
 "metadata": {
  "kernelspec": {
   "display_name": "base",
   "language": "python",
   "name": "python3"
  },
  "language_info": {
   "codemirror_mode": {
    "name": "ipython",
    "version": 3
   },
   "file_extension": ".py",
   "mimetype": "text/x-python",
   "name": "python",
   "nbconvert_exporter": "python",
   "pygments_lexer": "ipython3",
   "version": "3.9.13"
  },
  "orig_nbformat": 4,
  "vscode": {
   "interpreter": {
    "hash": "ad2bdc8ecc057115af97d19610ffacc2b4e99fae6737bb82f5d7fb13d2f2c186"
   }
  }
 },
 "nbformat": 4,
 "nbformat_minor": 2
}
